{
 "cells": [
  {
   "cell_type": "markdown",
   "id": "a7305156-fd7c-436d-9cc2-c0bb32009625",
   "metadata": {},
   "source": [
    "# Variables"
   ]
  },
  {
   "cell_type": "code",
   "execution_count": 88,
   "id": "eea19d7b-aa68-4bfc-9530-4398ea331037",
   "metadata": {},
   "outputs": [
    {
     "name": "stdin",
     "output_type": "stream",
     "text": [
      "Enter the numbers: 8 9\n"
     ]
    },
    {
     "name": "stdout",
     "output_type": "stream",
     "text": [
      "The swap values are: 9 8\n"
     ]
    }
   ],
   "source": [
    "# 1. Write a program that swaps the values of two variables.\n",
    "\n",
    "(a, b) = map(int, input(\"Enter the numbers:\").split())\n",
    "c = a\n",
    "a = b\n",
    "b = c\n",
    "print (\"The swap values are:\", a, b)"
   ]
  },
  {
   "cell_type": "code",
   "execution_count": 80,
   "id": "3b579353-6caa-481d-8637-730424833374",
   "metadata": {},
   "outputs": [
    {
     "name": "stdin",
     "output_type": "stream",
     "text": [
      "Enter the numbers: 5 3\n"
     ]
    },
    {
     "name": "stdout",
     "output_type": "stream",
     "text": [
      "The area of the rectangle is: 15\n"
     ]
    }
   ],
   "source": [
    "# 2. Write a program that calculates the area of a rectangle given its length and width.\n",
    "\n",
    "length, width = map(int,input(\"Enter the numbers:\").split())\n",
    "area_of_rectangle = length * width\n",
    "print (\"The area of the rectangle is:\", area_of_rectangle)"
   ]
  },
  {
   "cell_type": "code",
   "execution_count": 39,
   "id": "a7ce553c-1ed7-4592-a488-1a10eaeee4aa",
   "metadata": {},
   "outputs": [
    {
     "name": "stdin",
     "output_type": "stream",
     "text": [
      "Enter the Fahrenheit value: 100\n"
     ]
    },
    {
     "name": "stdout",
     "output_type": "stream",
     "text": [
      "The temperature in Celsius is: 37.78\n"
     ]
    }
   ],
   "source": [
    "# 3. Write a program that converts temperature from Fahrenheit to Celsius.\n",
    "\n",
    "#Fahrenheit (F) and Celsius (C)\n",
    "F = int(input (\"Enter the Fahrenheit value:\"))\n",
    "C = (F-32)* (5/9)\n",
    "print (\"The temperature in Celsius is:\", \"%.2f\"%C)"
   ]
  },
  {
   "cell_type": "code",
   "execution_count": 49,
   "id": "3c4174b3-9282-475c-b374-2c00c7803d66",
   "metadata": {},
   "outputs": [
    {
     "name": "stdin",
     "output_type": "stream",
     "text": [
      "Enter the radius: 7\n"
     ]
    },
    {
     "name": "stdout",
     "output_type": "stream",
     "text": [
      "The volume of the sphere is: 1436.758\n"
     ]
    }
   ],
   "source": [
    "# 4. Write a program that calculates the volume of a sphere given its radius.\n",
    "\n",
    "# radius (r) and volume (v) of the sphere\n",
    "r = int(input(\"Enter the radius:\"))\n",
    "π =3.1416\n",
    "v= (4/3)*π* r**3\n",
    "print(\"The volume of the sphere is:\", \"%.3f\"%v)"
   ]
  },
  {
   "cell_type": "code",
   "execution_count": 53,
   "id": "5302412d-cbb1-41f4-a0a1-eac05cce9f2b",
   "metadata": {},
   "outputs": [
    {
     "name": "stdin",
     "output_type": "stream",
     "text": [
      " 17 35 71\n"
     ]
    },
    {
     "name": "stdout",
     "output_type": "stream",
     "text": [
      "The average of three numbers: 41.00\n"
     ]
    }
   ],
   "source": [
    "# 5. Write a program that finds the average of three numbers.\n",
    "\n",
    "a,b,c = map(int,input().split())\n",
    "c = (a+b+c)/3\n",
    "print (\"The average of three numbers:\", \"%.2f\"%c)"
   ]
  },
  {
   "cell_type": "markdown",
   "id": "bd991408-9c86-43d4-b232-6ae7d27c0105",
   "metadata": {},
   "source": [
    "# If-elif-else"
   ]
  },
  {
   "cell_type": "code",
   "execution_count": 55,
   "id": "2e723bf8-0096-4d45-a1f6-c6516cfbbba2",
   "metadata": {},
   "outputs": [
    {
     "name": "stdin",
     "output_type": "stream",
     "text": [
      "Enter the number: 15\n"
     ]
    },
    {
     "name": "stdout",
     "output_type": "stream",
     "text": [
      "The number is odd\n"
     ]
    }
   ],
   "source": [
    "# 6. Write a program that determines if a number is even or odd.\n",
    "\n",
    "a = int(input(\"Enter the number:\"))\n",
    "if (a%2 == 0):\n",
    "    print (\"The number is even\")\n",
    "else:\n",
    "    print (\"The number is odd\")"
   ]
  },
  {
   "cell_type": "code",
   "execution_count": 61,
   "id": "d72ae4bf-69ea-4fea-aa8b-e77ca2c4313d",
   "metadata": {},
   "outputs": [
    {
     "name": "stdin",
     "output_type": "stream",
     "text": [
      "Enter the numbers: 7 8 9\n"
     ]
    },
    {
     "name": "stdout",
     "output_type": "stream",
     "text": [
      "The maximum of three numbers is: 9\n"
     ]
    }
   ],
   "source": [
    "# 7. Write a program that finds the maximum of three numbers.\n",
    "\n",
    "x, y, z = map(int,input(\"Enter the numbers:\").split())\n",
    "\n",
    "if (x > y and x > z):\n",
    "    print (\"The maximum of three numbers is:\", x)\n",
    "elif (y > x and y >z):\n",
    "    print (\"The maximum of three numbers is:\", y)\n",
    "else:\n",
    "    print (\"The maximum of three numbers is:\", z)"
   ]
  },
  {
   "cell_type": "code",
   "execution_count": 94,
   "id": "870f2d67-f988-416f-b8ab-7d381302d090",
   "metadata": {},
   "outputs": [
    {
     "name": "stdin",
     "output_type": "stream",
     "text": [
      "Enter the year: 1700\n"
     ]
    },
    {
     "name": "stdout",
     "output_type": "stream",
     "text": [
      "Not Leap Year\n"
     ]
    }
   ],
   "source": [
    "# 8. Write a program that determines if a year is a leap year or not.\n",
    "\n",
    "#year (y)\n",
    "y = int (input(\"Enter the year:\"))\n",
    "if (y%4 == 0 and y%100 != 0) or (y%400 == 0):\n",
    "    print (\"Leap Year\")\n",
    "else:\n",
    "    print(\"Not Leap Year\")"
   ]
  },
  {
   "cell_type": "code",
   "execution_count": 67,
   "id": "b87dcc45-e3dd-407d-8617-76dbf0450608",
   "metadata": {},
   "outputs": [
    {
     "name": "stdin",
     "output_type": "stream",
     "text": [
      "Enter the number: 0\n"
     ]
    },
    {
     "name": "stdout",
     "output_type": "stream",
     "text": [
      "The number is zero\n"
     ]
    }
   ],
   "source": [
    "# 9. Write a program that determines if a number is positive, negative, or zero.\n",
    "\n",
    "n = int(input(\"Enter the number:\"))\n",
    "if (n == 0):\n",
    "    print (\"The number is zero\")\n",
    "elif (n < 0):\n",
    "    print (\"The number is negative\")\n",
    "else:\n",
    "    print (\"The number is positive\")"
   ]
  },
  {
   "cell_type": "code",
   "execution_count": 71,
   "id": "dd35ff0c-d3af-4969-9fa8-6d902c34e242",
   "metadata": {},
   "outputs": [
    {
     "name": "stdin",
     "output_type": "stream",
     "text": [
      "Enter the marks 55\n"
     ]
    },
    {
     "name": "stdout",
     "output_type": "stream",
     "text": [
      "Grade B\n"
     ]
    }
   ],
   "source": [
    "# 10. Write a program that calculates the grade based on a given percentage.\n",
    "\n",
    "n = int(input(\"Enter the marks\"))\n",
    "if(n >=80):\n",
    "    print (\"Grade A+\")\n",
    "elif(n >= 70 and n < 80):\n",
    "    print (\"Grade A\")\n",
    "elif(n >= 60 and n < 70):\n",
    "    print (\"Grade A-\")\n",
    "elif(n >= 50 and n < 60):\n",
    "    print (\"Grade B\")\n",
    "elif(n >= 40 and n < 50):\n",
    "    print (\"Grade C\")\n",
    "elif(n >= 33 and n < 40):\n",
    "    print (\"Grade D\")\n",
    "else:\n",
    "    print (\"Grade F\")"
   ]
  },
  {
   "cell_type": "markdown",
   "id": "f4f4742c-496d-40a4-9c45-a1a7ff00bdb2",
   "metadata": {},
   "source": [
    "# For Loop"
   ]
  },
  {
   "cell_type": "code",
   "execution_count": 117,
   "id": "dee8c1cf-1e2f-4803-9b87-b012c552a28a",
   "metadata": {},
   "outputs": [
    {
     "name": "stdin",
     "output_type": "stream",
     "text": [
      "Enter the value of n: 10\n"
     ]
    },
    {
     "name": "stdout",
     "output_type": "stream",
     "text": [
      "1 2 3 4 5 6 7 8 9 10 "
     ]
    }
   ],
   "source": [
    "# 11. Write a program that prints the first `n` natural numbers.\n",
    "\n",
    "n = int(input(\"Enter the value of n:\"))\n",
    "for i in range (1, n+1):\n",
    "    print (i ,end =\" \")"
   ]
  },
  {
   "cell_type": "code",
   "execution_count": 86,
   "id": "713568c6-4145-4da5-82d9-a1022b5a762e",
   "metadata": {},
   "outputs": [
    {
     "name": "stdin",
     "output_type": "stream",
     "text": [
      "Enter the number: 4\n"
     ]
    },
    {
     "name": "stdout",
     "output_type": "stream",
     "text": [
      "24\n"
     ]
    }
   ],
   "source": [
    "# 12. Write a program that calculates the factorial of a number.\n",
    "\n",
    "num = int(input(\"Enter the number:\"))\n",
    "fact = 1\n",
    "for i in range (1, num+1):\n",
    "    fact = fact *i\n",
    "print (fact)"
   ]
  },
  {
   "cell_type": "code",
   "execution_count": 112,
   "id": "e0cd4448-0a01-4964-be38-122756b904d2",
   "metadata": {},
   "outputs": [
    {
     "name": "stdin",
     "output_type": "stream",
     "text": [
      "Enter the length: 10\n"
     ]
    },
    {
     "name": "stdout",
     "output_type": "stream",
     "text": [
      "0\n",
      "1\n",
      "1\n",
      "2\n",
      "3\n",
      "5\n",
      "8\n",
      "13\n",
      "21\n",
      "34\n"
     ]
    }
   ],
   "source": [
    "# 13. Write a program that generates a Fibonacci sequence of length `n`.\n",
    "\n",
    "n = int(input(\"Enter the length:\"))\n",
    "\n",
    "a = 0\n",
    "b = 1\n",
    "\n",
    "print (a)\n",
    "print (b)\n",
    "\n",
    "for i in range (2, n):\n",
    "    c = a + b\n",
    "    a = b\n",
    "    b = c\n",
    "    print (c)"
   ]
  },
  {
   "cell_type": "code",
   "execution_count": 124,
   "id": "e055cf18-c79c-4d75-8dab-508c7a61179c",
   "metadata": {},
   "outputs": [
    {
     "name": "stdin",
     "output_type": "stream",
     "text": [
      "Enter the number: 17\n"
     ]
    },
    {
     "name": "stdout",
     "output_type": "stream",
     "text": [
      "prime\n"
     ]
    }
   ],
   "source": [
    "# 14. Write a program that checks if a given number is prime or not.\n",
    "\n",
    "num = int(input(\"Enter the number:\"))\n",
    "\n",
    "for i in range (2, num):\n",
    "    if (num % i == 0):\n",
    "        print (\"Not prime\")\n",
    "        break\n",
    "else:\n",
    "    print (\"prime\")"
   ]
  },
  {
   "cell_type": "code",
   "execution_count": 44,
   "id": "73e62c62-d6af-4a2a-b68d-b5860202fa5f",
   "metadata": {},
   "outputs": [
    {
     "name": "stdin",
     "output_type": "stream",
     "text": [
      "Enter the number of multiplication table: 5\n"
     ]
    },
    {
     "name": "stdout",
     "output_type": "stream",
     "text": [
      "5 * 1 = 5\n",
      "5 * 2 = 10\n",
      "5 * 3 = 15\n",
      "5 * 4 = 20\n",
      "5 * 5 = 25\n",
      "5 * 6 = 30\n",
      "5 * 7 = 35\n",
      "5 * 8 = 40\n",
      "5 * 9 = 45\n",
      "5 * 10 = 50\n"
     ]
    }
   ],
   "source": [
    "# 15. Write a program that prints the multiplication table of a given number.\n",
    "\n",
    "n = int(input(\"Enter the number of multiplication table:\"))\n",
    "for i in range(1, 11):\n",
    "    print (n, \"*\" , i, \"=\" ,n*i)"
   ]
  },
  {
   "cell_type": "markdown",
   "id": "f84fcdcd-0f18-4831-a24f-73d9b192fba6",
   "metadata": {},
   "source": [
    "# While Loop"
   ]
  },
  {
   "cell_type": "code",
   "execution_count": 78,
   "id": "366a99ed-db2c-4c4b-bd57-b0232e9d40bc",
   "metadata": {},
   "outputs": [
    {
     "name": "stdin",
     "output_type": "stream",
     "text": [
      " Enter the value of n: 4\n"
     ]
    },
    {
     "name": "stdout",
     "output_type": "stream",
     "text": [
      "Sum of all even numbers: 6\n"
     ]
    }
   ],
   "source": [
    "# 16. Write a program that finds the sum of all even numbers between 1 and `n`.\n",
    "\n",
    "n = int(input(\" Enter the value of n:\"))\n",
    "i = 2\n",
    "sum = 0\n",
    "while (i <=n):\n",
    "    sum = sum + i\n",
    "    i = i+2\n",
    "print (\"Sum of all even numbers:\", sum)"
   ]
  },
  {
   "cell_type": "code",
   "execution_count": 74,
   "id": "d3286879-0f21-49f0-8b6d-39d8af87c719",
   "metadata": {},
   "outputs": [
    {
     "name": "stdin",
     "output_type": "stream",
     "text": [
      " 456\n"
     ]
    },
    {
     "name": "stdout",
     "output_type": "stream",
     "text": [
      "654"
     ]
    }
   ],
   "source": [
    "# 17. Write a program that reverses a given number.\n",
    "\n",
    "n = int(input())\n",
    "i = n\n",
    "while (i > 0):\n",
    "    r = i%10\n",
    "    print (r, end = \"\")\n",
    "    i = i // 10"
   ]
  },
  {
   "cell_type": "code",
   "execution_count": null,
   "id": "ec25b1b4-0a66-4593-bc38-1344f2059bd2",
   "metadata": {},
   "outputs": [],
   "source": [
    "# 18. Write a program that checks if a given string, is a palindrome."
   ]
  },
  {
   "cell_type": "code",
   "execution_count": null,
   "id": "48c82d11-e03f-49d7-8c8b-f73603a2ae76",
   "metadata": {},
   "outputs": [],
   "source": [
    "# 19. Write a program that generates a random number and allows the user to guess it. "
   ]
  },
  {
   "cell_type": "code",
   "execution_count": null,
   "id": "ce5a8bad-bac4-42c1-82db-e8adafa18715",
   "metadata": {},
   "outputs": [],
   "source": [
    "# 20. Write a program that finds the greatest common divisor (GCD) of two numbers"
   ]
  }
 ],
 "metadata": {
  "kernelspec": {
   "display_name": "Python 3 (ipykernel)",
   "language": "python",
   "name": "python3"
  },
  "language_info": {
   "codemirror_mode": {
    "name": "ipython",
    "version": 3
   },
   "file_extension": ".py",
   "mimetype": "text/x-python",
   "name": "python",
   "nbconvert_exporter": "python",
   "pygments_lexer": "ipython3",
   "version": "3.12.4"
  }
 },
 "nbformat": 4,
 "nbformat_minor": 5
}
